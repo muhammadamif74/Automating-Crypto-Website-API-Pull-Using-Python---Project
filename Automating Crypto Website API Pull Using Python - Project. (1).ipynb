{
 "cells": [
  {
   "cell_type": "code",
   "execution_count": null,
   "id": "b2ffce6e",
   "metadata": {},
   "outputs": [],
   "source": [
    "#Portfolio Projet 2 - Automating Crypto Website API Pull Using Python \n",
    "\n",
    "# Muhammad Amif - 03/06/2023"
   ]
  },
  {
   "cell_type": "code",
   "execution_count": 1,
   "id": "fd8f6558",
   "metadata": {},
   "outputs": [],
   "source": [
    "from requests import Request, Session\n",
    "from requests.exceptions import ConnectionError, Timeout, TooManyRedirects\n",
    "import json\n",
    "\n",
    "url = 'https://pro-api.coinmarketcap.com/v1/cryptocurrency/listings/latest' \n",
    "#Original Sandbox Environment: 'https://sandbox-api.coinmarketcap.com/v1/cryptocurrency/listings/latest'\n",
    "parameters = {\n",
    "  'start':'1',\n",
    "  'limit':'15',\n",
    "  'convert':'USD'\n",
    "}\n",
    "headers = {\n",
    "  'Accepts': 'application/json',\n",
    "  'X-CMC_PRO_API_KEY': '0ad53085-1cb2-4eb8-ad9e-3ffbd7e56509',\n",
    "}\n",
    "\n",
    "session = Session()\n",
    "session.headers.update(headers)\n",
    "\n",
    "try:\n",
    "  response = session.get(url, params=parameters)\n",
    "  data = json.loads(response.text)\n",
    "  #print(data)\n",
    "except (ConnectionError, Timeout, TooManyRedirects) as e:\n",
    "  print(e)\n"
   ]
  },
  {
   "cell_type": "code",
   "execution_count": 2,
   "id": "8faa12e6",
   "metadata": {},
   "outputs": [
    {
     "data": {
      "text/plain": [
       "dict"
      ]
     },
     "execution_count": 2,
     "metadata": {},
     "output_type": "execute_result"
    }
   ],
   "source": [
    "type(data)"
   ]
  },
  {
   "cell_type": "code",
   "execution_count": 3,
   "id": "ecd58682",
   "metadata": {},
   "outputs": [],
   "source": [
    "import pandas as pd\n",
    "\n",
    "\n",
    "#This allows to see all the columns, not just like 15\n",
    "pd.set_option('display.max_columns', None)\n",
    "pd.set_option('display.max_rows', None)"
   ]
  },
  {
   "cell_type": "code",
   "execution_count": 4,
   "id": "cbfdf4c7",
   "metadata": {},
   "outputs": [
    {
     "name": "stderr",
     "output_type": "stream",
     "text": [
      "C:\\Users\\AMIF\\AppData\\Local\\Temp\\ipykernel_150608\\446114984.py:4: FutureWarning: The parsing of 'now' in pd.to_datetime without `utc=True` is deprecated. In a future version, this will match Timestamp('now') and Timestamp.now()\n",
      "  df['timestamp'] = pd.to_datetime('now')\n"
     ]
    },
    {
     "data": {
      "text/html": [
       "<div>\n",
       "<style scoped>\n",
       "    .dataframe tbody tr th:only-of-type {\n",
       "        vertical-align: middle;\n",
       "    }\n",
       "\n",
       "    .dataframe tbody tr th {\n",
       "        vertical-align: top;\n",
       "    }\n",
       "\n",
       "    .dataframe thead th {\n",
       "        text-align: right;\n",
       "    }\n",
       "</style>\n",
       "<table border=\"1\" class=\"dataframe\">\n",
       "  <thead>\n",
       "    <tr style=\"text-align: right;\">\n",
       "      <th></th>\n",
       "      <th>id</th>\n",
       "      <th>name</th>\n",
       "      <th>symbol</th>\n",
       "      <th>slug</th>\n",
       "      <th>num_market_pairs</th>\n",
       "      <th>date_added</th>\n",
       "      <th>tags</th>\n",
       "      <th>max_supply</th>\n",
       "      <th>circulating_supply</th>\n",
       "      <th>total_supply</th>\n",
       "      <th>infinite_supply</th>\n",
       "      <th>platform</th>\n",
       "      <th>cmc_rank</th>\n",
       "      <th>self_reported_circulating_supply</th>\n",
       "      <th>self_reported_market_cap</th>\n",
       "      <th>tvl_ratio</th>\n",
       "      <th>last_updated</th>\n",
       "      <th>quote.USD.price</th>\n",
       "      <th>quote.USD.volume_24h</th>\n",
       "      <th>quote.USD.volume_change_24h</th>\n",
       "      <th>quote.USD.percent_change_1h</th>\n",
       "      <th>quote.USD.percent_change_24h</th>\n",
       "      <th>quote.USD.percent_change_7d</th>\n",
       "      <th>quote.USD.percent_change_30d</th>\n",
       "      <th>quote.USD.percent_change_60d</th>\n",
       "      <th>quote.USD.percent_change_90d</th>\n",
       "      <th>quote.USD.market_cap</th>\n",
       "      <th>quote.USD.market_cap_dominance</th>\n",
       "      <th>quote.USD.fully_diluted_market_cap</th>\n",
       "      <th>quote.USD.tvl</th>\n",
       "      <th>quote.USD.last_updated</th>\n",
       "      <th>platform.id</th>\n",
       "      <th>platform.name</th>\n",
       "      <th>platform.symbol</th>\n",
       "      <th>platform.slug</th>\n",
       "      <th>platform.token_address</th>\n",
       "      <th>timestamp</th>\n",
       "    </tr>\n",
       "  </thead>\n",
       "  <tbody>\n",
       "    <tr>\n",
       "      <th>0</th>\n",
       "      <td>1</td>\n",
       "      <td>Bitcoin</td>\n",
       "      <td>BTC</td>\n",
       "      <td>bitcoin</td>\n",
       "      <td>10380</td>\n",
       "      <td>2010-07-13T00:00:00.000Z</td>\n",
       "      <td>[mineable, pow, sha-256, store-of-value, state...</td>\n",
       "      <td>2.100000e+07</td>\n",
       "      <td>1.944568e+07</td>\n",
       "      <td>1.944568e+07</td>\n",
       "      <td>False</td>\n",
       "      <td>NaN</td>\n",
       "      <td>1</td>\n",
       "      <td>NaN</td>\n",
       "      <td>NaN</td>\n",
       "      <td>None</td>\n",
       "      <td>2023-08-02T06:59:00.000Z</td>\n",
       "      <td>29557.185496</td>\n",
       "      <td>1.973512e+10</td>\n",
       "      <td>50.7138</td>\n",
       "      <td>-0.247956</td>\n",
       "      <td>2.218606</td>\n",
       "      <td>1.226973</td>\n",
       "      <td>-3.555927</td>\n",
       "      <td>8.713455</td>\n",
       "      <td>1.348704</td>\n",
       "      <td>5.747596e+11</td>\n",
       "      <td>48.6177</td>\n",
       "      <td>6.207009e+11</td>\n",
       "      <td>None</td>\n",
       "      <td>2023-08-02T06:59:00.000Z</td>\n",
       "      <td>NaN</td>\n",
       "      <td>NaN</td>\n",
       "      <td>NaN</td>\n",
       "      <td>NaN</td>\n",
       "      <td>NaN</td>\n",
       "      <td>2023-08-02 07:01:00.116418</td>\n",
       "    </tr>\n",
       "    <tr>\n",
       "      <th>1</th>\n",
       "      <td>1027</td>\n",
       "      <td>Ethereum</td>\n",
       "      <td>ETH</td>\n",
       "      <td>ethereum</td>\n",
       "      <td>7203</td>\n",
       "      <td>2015-08-07T00:00:00.000Z</td>\n",
       "      <td>[pos, smart-contracts, ethereum-ecosystem, coi...</td>\n",
       "      <td>NaN</td>\n",
       "      <td>1.201734e+08</td>\n",
       "      <td>1.201734e+08</td>\n",
       "      <td>True</td>\n",
       "      <td>NaN</td>\n",
       "      <td>2</td>\n",
       "      <td>NaN</td>\n",
       "      <td>NaN</td>\n",
       "      <td>None</td>\n",
       "      <td>2023-08-02T06:59:00.000Z</td>\n",
       "      <td>1856.984071</td>\n",
       "      <td>6.912126e+09</td>\n",
       "      <td>22.9316</td>\n",
       "      <td>-0.233808</td>\n",
       "      <td>1.369665</td>\n",
       "      <td>0.165714</td>\n",
       "      <td>-4.622175</td>\n",
       "      <td>-2.466717</td>\n",
       "      <td>-2.297274</td>\n",
       "      <td>2.231601e+11</td>\n",
       "      <td>18.8741</td>\n",
       "      <td>2.231601e+11</td>\n",
       "      <td>None</td>\n",
       "      <td>2023-08-02T06:59:00.000Z</td>\n",
       "      <td>NaN</td>\n",
       "      <td>NaN</td>\n",
       "      <td>NaN</td>\n",
       "      <td>NaN</td>\n",
       "      <td>NaN</td>\n",
       "      <td>2023-08-02 07:01:00.116418</td>\n",
       "    </tr>\n",
       "    <tr>\n",
       "      <th>2</th>\n",
       "      <td>825</td>\n",
       "      <td>Tether USDt</td>\n",
       "      <td>USDT</td>\n",
       "      <td>tether</td>\n",
       "      <td>58276</td>\n",
       "      <td>2015-02-25T00:00:00.000Z</td>\n",
       "      <td>[payments, stablecoin, asset-backed-stablecoin...</td>\n",
       "      <td>NaN</td>\n",
       "      <td>8.389549e+10</td>\n",
       "      <td>8.670626e+10</td>\n",
       "      <td>True</td>\n",
       "      <td>NaN</td>\n",
       "      <td>3</td>\n",
       "      <td>NaN</td>\n",
       "      <td>NaN</td>\n",
       "      <td>None</td>\n",
       "      <td>2023-08-02T06:59:00.000Z</td>\n",
       "      <td>0.999299</td>\n",
       "      <td>2.709476e+10</td>\n",
       "      <td>28.1623</td>\n",
       "      <td>-0.011627</td>\n",
       "      <td>-0.040086</td>\n",
       "      <td>-0.061526</td>\n",
       "      <td>-0.071281</td>\n",
       "      <td>-0.101871</td>\n",
       "      <td>-0.107673</td>\n",
       "      <td>8.383666e+10</td>\n",
       "      <td>7.0922</td>\n",
       "      <td>8.664545e+10</td>\n",
       "      <td>None</td>\n",
       "      <td>2023-08-02T06:59:00.000Z</td>\n",
       "      <td>1027.0</td>\n",
       "      <td>Ethereum</td>\n",
       "      <td>ETH</td>\n",
       "      <td>ethereum</td>\n",
       "      <td>0xdac17f958d2ee523a2206206994597c13d831ec7</td>\n",
       "      <td>2023-08-02 07:01:00.116418</td>\n",
       "    </tr>\n",
       "    <tr>\n",
       "      <th>3</th>\n",
       "      <td>1839</td>\n",
       "      <td>BNB</td>\n",
       "      <td>BNB</td>\n",
       "      <td>bnb</td>\n",
       "      <td>1551</td>\n",
       "      <td>2017-07-25T00:00:00.000Z</td>\n",
       "      <td>[marketplace, centralized-exchange, payments, ...</td>\n",
       "      <td>NaN</td>\n",
       "      <td>1.538551e+08</td>\n",
       "      <td>1.538551e+08</td>\n",
       "      <td>False</td>\n",
       "      <td>NaN</td>\n",
       "      <td>4</td>\n",
       "      <td>NaN</td>\n",
       "      <td>NaN</td>\n",
       "      <td>None</td>\n",
       "      <td>2023-08-02T06:59:00.000Z</td>\n",
       "      <td>244.553844</td>\n",
       "      <td>8.613043e+08</td>\n",
       "      <td>88.1346</td>\n",
       "      <td>-0.276610</td>\n",
       "      <td>1.378262</td>\n",
       "      <td>2.847199</td>\n",
       "      <td>-1.054014</td>\n",
       "      <td>-20.232757</td>\n",
       "      <td>-25.149182</td>\n",
       "      <td>3.762585e+10</td>\n",
       "      <td>3.1827</td>\n",
       "      <td>3.762585e+10</td>\n",
       "      <td>None</td>\n",
       "      <td>2023-08-02T06:59:00.000Z</td>\n",
       "      <td>NaN</td>\n",
       "      <td>NaN</td>\n",
       "      <td>NaN</td>\n",
       "      <td>NaN</td>\n",
       "      <td>NaN</td>\n",
       "      <td>2023-08-02 07:01:00.116418</td>\n",
       "    </tr>\n",
       "    <tr>\n",
       "      <th>4</th>\n",
       "      <td>52</td>\n",
       "      <td>XRP</td>\n",
       "      <td>XRP</td>\n",
       "      <td>xrp</td>\n",
       "      <td>1017</td>\n",
       "      <td>2013-08-04T00:00:00.000Z</td>\n",
       "      <td>[medium-of-exchange, enterprise-solutions, arr...</td>\n",
       "      <td>1.000000e+11</td>\n",
       "      <td>5.269385e+10</td>\n",
       "      <td>9.998856e+10</td>\n",
       "      <td>False</td>\n",
       "      <td>NaN</td>\n",
       "      <td>5</td>\n",
       "      <td>NaN</td>\n",
       "      <td>NaN</td>\n",
       "      <td>None</td>\n",
       "      <td>2023-08-02T06:59:00.000Z</td>\n",
       "      <td>0.694545</td>\n",
       "      <td>1.233739e+09</td>\n",
       "      <td>-26.7241</td>\n",
       "      <td>-0.566091</td>\n",
       "      <td>1.016213</td>\n",
       "      <td>-0.867968</td>\n",
       "      <td>44.263625</td>\n",
       "      <td>31.954979</td>\n",
       "      <td>50.167610</td>\n",
       "      <td>3.659828e+10</td>\n",
       "      <td>3.0954</td>\n",
       "      <td>6.945455e+10</td>\n",
       "      <td>None</td>\n",
       "      <td>2023-08-02T06:59:00.000Z</td>\n",
       "      <td>NaN</td>\n",
       "      <td>NaN</td>\n",
       "      <td>NaN</td>\n",
       "      <td>NaN</td>\n",
       "      <td>NaN</td>\n",
       "      <td>2023-08-02 07:01:00.116418</td>\n",
       "    </tr>\n",
       "  </tbody>\n",
       "</table>\n",
       "</div>"
      ],
      "text/plain": [
       "     id         name symbol      slug  num_market_pairs  \\\n",
       "0     1      Bitcoin    BTC   bitcoin             10380   \n",
       "1  1027     Ethereum    ETH  ethereum              7203   \n",
       "2   825  Tether USDt   USDT    tether             58276   \n",
       "3  1839          BNB    BNB       bnb              1551   \n",
       "4    52          XRP    XRP       xrp              1017   \n",
       "\n",
       "                 date_added  \\\n",
       "0  2010-07-13T00:00:00.000Z   \n",
       "1  2015-08-07T00:00:00.000Z   \n",
       "2  2015-02-25T00:00:00.000Z   \n",
       "3  2017-07-25T00:00:00.000Z   \n",
       "4  2013-08-04T00:00:00.000Z   \n",
       "\n",
       "                                                tags    max_supply  \\\n",
       "0  [mineable, pow, sha-256, store-of-value, state...  2.100000e+07   \n",
       "1  [pos, smart-contracts, ethereum-ecosystem, coi...           NaN   \n",
       "2  [payments, stablecoin, asset-backed-stablecoin...           NaN   \n",
       "3  [marketplace, centralized-exchange, payments, ...           NaN   \n",
       "4  [medium-of-exchange, enterprise-solutions, arr...  1.000000e+11   \n",
       "\n",
       "   circulating_supply  total_supply  infinite_supply  platform  cmc_rank  \\\n",
       "0        1.944568e+07  1.944568e+07            False       NaN         1   \n",
       "1        1.201734e+08  1.201734e+08             True       NaN         2   \n",
       "2        8.389549e+10  8.670626e+10             True       NaN         3   \n",
       "3        1.538551e+08  1.538551e+08            False       NaN         4   \n",
       "4        5.269385e+10  9.998856e+10            False       NaN         5   \n",
       "\n",
       "   self_reported_circulating_supply  self_reported_market_cap tvl_ratio  \\\n",
       "0                               NaN                       NaN      None   \n",
       "1                               NaN                       NaN      None   \n",
       "2                               NaN                       NaN      None   \n",
       "3                               NaN                       NaN      None   \n",
       "4                               NaN                       NaN      None   \n",
       "\n",
       "               last_updated  quote.USD.price  quote.USD.volume_24h  \\\n",
       "0  2023-08-02T06:59:00.000Z     29557.185496          1.973512e+10   \n",
       "1  2023-08-02T06:59:00.000Z      1856.984071          6.912126e+09   \n",
       "2  2023-08-02T06:59:00.000Z         0.999299          2.709476e+10   \n",
       "3  2023-08-02T06:59:00.000Z       244.553844          8.613043e+08   \n",
       "4  2023-08-02T06:59:00.000Z         0.694545          1.233739e+09   \n",
       "\n",
       "   quote.USD.volume_change_24h  quote.USD.percent_change_1h  \\\n",
       "0                      50.7138                    -0.247956   \n",
       "1                      22.9316                    -0.233808   \n",
       "2                      28.1623                    -0.011627   \n",
       "3                      88.1346                    -0.276610   \n",
       "4                     -26.7241                    -0.566091   \n",
       "\n",
       "   quote.USD.percent_change_24h  quote.USD.percent_change_7d  \\\n",
       "0                      2.218606                     1.226973   \n",
       "1                      1.369665                     0.165714   \n",
       "2                     -0.040086                    -0.061526   \n",
       "3                      1.378262                     2.847199   \n",
       "4                      1.016213                    -0.867968   \n",
       "\n",
       "   quote.USD.percent_change_30d  quote.USD.percent_change_60d  \\\n",
       "0                     -3.555927                      8.713455   \n",
       "1                     -4.622175                     -2.466717   \n",
       "2                     -0.071281                     -0.101871   \n",
       "3                     -1.054014                    -20.232757   \n",
       "4                     44.263625                     31.954979   \n",
       "\n",
       "   quote.USD.percent_change_90d  quote.USD.market_cap  \\\n",
       "0                      1.348704          5.747596e+11   \n",
       "1                     -2.297274          2.231601e+11   \n",
       "2                     -0.107673          8.383666e+10   \n",
       "3                    -25.149182          3.762585e+10   \n",
       "4                     50.167610          3.659828e+10   \n",
       "\n",
       "   quote.USD.market_cap_dominance  quote.USD.fully_diluted_market_cap  \\\n",
       "0                         48.6177                        6.207009e+11   \n",
       "1                         18.8741                        2.231601e+11   \n",
       "2                          7.0922                        8.664545e+10   \n",
       "3                          3.1827                        3.762585e+10   \n",
       "4                          3.0954                        6.945455e+10   \n",
       "\n",
       "  quote.USD.tvl    quote.USD.last_updated  platform.id platform.name  \\\n",
       "0          None  2023-08-02T06:59:00.000Z          NaN           NaN   \n",
       "1          None  2023-08-02T06:59:00.000Z          NaN           NaN   \n",
       "2          None  2023-08-02T06:59:00.000Z       1027.0      Ethereum   \n",
       "3          None  2023-08-02T06:59:00.000Z          NaN           NaN   \n",
       "4          None  2023-08-02T06:59:00.000Z          NaN           NaN   \n",
       "\n",
       "  platform.symbol platform.slug                      platform.token_address  \\\n",
       "0             NaN           NaN                                         NaN   \n",
       "1             NaN           NaN                                         NaN   \n",
       "2             ETH      ethereum  0xdac17f958d2ee523a2206206994597c13d831ec7   \n",
       "3             NaN           NaN                                         NaN   \n",
       "4             NaN           NaN                                         NaN   \n",
       "\n",
       "                   timestamp  \n",
       "0 2023-08-02 07:01:00.116418  \n",
       "1 2023-08-02 07:01:00.116418  \n",
       "2 2023-08-02 07:01:00.116418  \n",
       "3 2023-08-02 07:01:00.116418  \n",
       "4 2023-08-02 07:01:00.116418  "
      ]
     },
     "execution_count": 4,
     "metadata": {},
     "output_type": "execute_result"
    }
   ],
   "source": [
    "#This normalizes the data and makes it all pretty in a dataframe\n",
    "\n",
    "df = pd.json_normalize(data['data'])\n",
    "df['timestamp'] = pd.to_datetime('now')\n",
    "df.head()"
   ]
  },
  {
   "cell_type": "code",
   "execution_count": null,
   "id": "f226bf96",
   "metadata": {},
   "outputs": [],
   "source": [
    "def api_runner():\n",
    "    \n",
    "    global df\n",
    "    url = 'https://pro-api.coinmarketcap.com/v1/cryptocurrency/listings/latest' \n",
    "    #Original Sandbox Environment: 'https://sandbox-api.coinmarketcap.com/v1/cryptocurrency/listings/latest'\n",
    "    parameters = {\n",
    "      'start':'1',\n",
    "      'limit':'15',\n",
    "      'convert':'USD'\n",
    "    }\n",
    "    headers = {\n",
    "      'Accepts': 'application/json',\n",
    "      'X-CMC_PRO_API_KEY': '0ad53085-1cb2-4eb8-ad9e-3ffbd7e56509',\n",
    "    }\n",
    "\n",
    "    session = Session()\n",
    "    session.headers.update(headers)\n",
    "\n",
    "    try:\n",
    "      response = session.get(url, params=parameters)\n",
    "      data = json.loads(response.text)\n",
    "      #print(data)\n",
    "    except (ConnectionError, Timeout, TooManyRedirects) as e:\n",
    "      print(e)\n",
    "\n",
    "    \n",
    "    # Use this if you just want to keep it in a dataframe\n",
    "    df = pd.json_normalize(data['data'])\n",
    "    df['Timestamp'] = pd.to_datetime('now')\n",
    "    df = df.append(df)\n",
    "\n",
    "    \n",
    "    if not os.path.isfile(r'C:\\Users\\AMIF\\OneDrive\\Documents\\Python Scripts\\API.csv'):\n",
    "        df.to_csv(r'C:\\Users\\AMIF\\OneDrive\\Documents\\Python Scripts\\API.csv', header='column_names')\n",
    "    else:\n",
    "        df.to_csv(r'C:\\Users\\AMIF\\OneDrive\\Documents\\Python Scripts\\API.csv', mode='a', header=False)\n",
    "        "
   ]
  },
  {
   "cell_type": "code",
   "execution_count": null,
   "id": "8b8a9703",
   "metadata": {},
   "outputs": [
    {
     "name": "stderr",
     "output_type": "stream",
     "text": [
      "C:\\Users\\AMIF\\AppData\\Local\\Temp\\ipykernel_150608\\540144245.py:29: FutureWarning: The parsing of 'now' in pd.to_datetime without `utc=True` is deprecated. In a future version, this will match Timestamp('now') and Timestamp.now()\n",
      "  df['Timestamp'] = pd.to_datetime('now')\n",
      "C:\\Users\\AMIF\\AppData\\Local\\Temp\\ipykernel_150608\\540144245.py:30: FutureWarning: The frame.append method is deprecated and will be removed from pandas in a future version. Use pandas.concat instead.\n",
      "  df = df.append(df)\n"
     ]
    },
    {
     "name": "stdout",
     "output_type": "stream",
     "text": [
      "API Runner completed\n"
     ]
    },
    {
     "name": "stderr",
     "output_type": "stream",
     "text": [
      "C:\\Users\\AMIF\\AppData\\Local\\Temp\\ipykernel_150608\\540144245.py:29: FutureWarning: The parsing of 'now' in pd.to_datetime without `utc=True` is deprecated. In a future version, this will match Timestamp('now') and Timestamp.now()\n",
      "  df['Timestamp'] = pd.to_datetime('now')\n",
      "C:\\Users\\AMIF\\AppData\\Local\\Temp\\ipykernel_150608\\540144245.py:30: FutureWarning: The frame.append method is deprecated and will be removed from pandas in a future version. Use pandas.concat instead.\n",
      "  df = df.append(df)\n"
     ]
    },
    {
     "name": "stdout",
     "output_type": "stream",
     "text": [
      "API Runner completed\n"
     ]
    },
    {
     "name": "stderr",
     "output_type": "stream",
     "text": [
      "C:\\Users\\AMIF\\AppData\\Local\\Temp\\ipykernel_150608\\540144245.py:29: FutureWarning: The parsing of 'now' in pd.to_datetime without `utc=True` is deprecated. In a future version, this will match Timestamp('now') and Timestamp.now()\n",
      "  df['Timestamp'] = pd.to_datetime('now')\n",
      "C:\\Users\\AMIF\\AppData\\Local\\Temp\\ipykernel_150608\\540144245.py:30: FutureWarning: The frame.append method is deprecated and will be removed from pandas in a future version. Use pandas.concat instead.\n",
      "  df = df.append(df)\n"
     ]
    },
    {
     "name": "stdout",
     "output_type": "stream",
     "text": [
      "API Runner completed\n"
     ]
    },
    {
     "name": "stderr",
     "output_type": "stream",
     "text": [
      "C:\\Users\\AMIF\\AppData\\Local\\Temp\\ipykernel_150608\\540144245.py:29: FutureWarning: The parsing of 'now' in pd.to_datetime without `utc=True` is deprecated. In a future version, this will match Timestamp('now') and Timestamp.now()\n",
      "  df['Timestamp'] = pd.to_datetime('now')\n",
      "C:\\Users\\AMIF\\AppData\\Local\\Temp\\ipykernel_150608\\540144245.py:30: FutureWarning: The frame.append method is deprecated and will be removed from pandas in a future version. Use pandas.concat instead.\n",
      "  df = df.append(df)\n"
     ]
    },
    {
     "name": "stdout",
     "output_type": "stream",
     "text": [
      "API Runner completed\n"
     ]
    },
    {
     "name": "stderr",
     "output_type": "stream",
     "text": [
      "C:\\Users\\AMIF\\AppData\\Local\\Temp\\ipykernel_150608\\540144245.py:29: FutureWarning: The parsing of 'now' in pd.to_datetime without `utc=True` is deprecated. In a future version, this will match Timestamp('now') and Timestamp.now()\n",
      "  df['Timestamp'] = pd.to_datetime('now')\n",
      "C:\\Users\\AMIF\\AppData\\Local\\Temp\\ipykernel_150608\\540144245.py:30: FutureWarning: The frame.append method is deprecated and will be removed from pandas in a future version. Use pandas.concat instead.\n",
      "  df = df.append(df)\n"
     ]
    },
    {
     "name": "stdout",
     "output_type": "stream",
     "text": [
      "API Runner completed\n"
     ]
    },
    {
     "name": "stderr",
     "output_type": "stream",
     "text": [
      "C:\\Users\\AMIF\\AppData\\Local\\Temp\\ipykernel_150608\\540144245.py:29: FutureWarning: The parsing of 'now' in pd.to_datetime without `utc=True` is deprecated. In a future version, this will match Timestamp('now') and Timestamp.now()\n",
      "  df['Timestamp'] = pd.to_datetime('now')\n",
      "C:\\Users\\AMIF\\AppData\\Local\\Temp\\ipykernel_150608\\540144245.py:30: FutureWarning: The frame.append method is deprecated and will be removed from pandas in a future version. Use pandas.concat instead.\n",
      "  df = df.append(df)\n"
     ]
    },
    {
     "name": "stdout",
     "output_type": "stream",
     "text": [
      "API Runner completed\n"
     ]
    },
    {
     "name": "stderr",
     "output_type": "stream",
     "text": [
      "C:\\Users\\AMIF\\AppData\\Local\\Temp\\ipykernel_150608\\540144245.py:29: FutureWarning: The parsing of 'now' in pd.to_datetime without `utc=True` is deprecated. In a future version, this will match Timestamp('now') and Timestamp.now()\n",
      "  df['Timestamp'] = pd.to_datetime('now')\n",
      "C:\\Users\\AMIF\\AppData\\Local\\Temp\\ipykernel_150608\\540144245.py:30: FutureWarning: The frame.append method is deprecated and will be removed from pandas in a future version. Use pandas.concat instead.\n",
      "  df = df.append(df)\n"
     ]
    },
    {
     "name": "stdout",
     "output_type": "stream",
     "text": [
      "API Runner completed\n"
     ]
    },
    {
     "name": "stderr",
     "output_type": "stream",
     "text": [
      "C:\\Users\\AMIF\\AppData\\Local\\Temp\\ipykernel_150608\\540144245.py:29: FutureWarning: The parsing of 'now' in pd.to_datetime without `utc=True` is deprecated. In a future version, this will match Timestamp('now') and Timestamp.now()\n",
      "  df['Timestamp'] = pd.to_datetime('now')\n",
      "C:\\Users\\AMIF\\AppData\\Local\\Temp\\ipykernel_150608\\540144245.py:30: FutureWarning: The frame.append method is deprecated and will be removed from pandas in a future version. Use pandas.concat instead.\n",
      "  df = df.append(df)\n"
     ]
    },
    {
     "name": "stdout",
     "output_type": "stream",
     "text": [
      "API Runner completed\n"
     ]
    }
   ],
   "source": [
    "import os \n",
    "from time import time\n",
    "from time import sleep\n",
    "\n",
    "for i in range(333):\n",
    "    api_runner()\n",
    "    print('API Runner completed')\n",
    "    sleep(60) #sleep for 1 minute\n",
    "exit()"
   ]
  },
  {
   "cell_type": "code",
   "execution_count": null,
   "id": "619b9516",
   "metadata": {},
   "outputs": [],
   "source": [
    "df72 = pd.read_csv(r'C:\\Users\\AMIF\\OneDrive\\Documents\\Python Scripts\\API.csv')\n",
    "df72.head()"
   ]
  },
  {
   "cell_type": "code",
   "execution_count": null,
   "id": "10fe3270",
   "metadata": {},
   "outputs": [],
   "source": [
    "pd.set_option('display.float_format', lambda x: '%.5f' % x)"
   ]
  },
  {
   "cell_type": "code",
   "execution_count": null,
   "id": "fec8df9e",
   "metadata": {},
   "outputs": [],
   "source": [
    "df3 = df.groupby('name', sort=False)[['quote.USD.percent_change_1h','quote.USD.percent_change_24h','quote.USD.percent_change_7d','quote.USD.percent_change_30d','quote.USD.percent_change_60d','quote.USD.percent_change_90d']].mean()\n",
    "df3.head()"
   ]
  },
  {
   "cell_type": "code",
   "execution_count": null,
   "id": "625d86fe",
   "metadata": {},
   "outputs": [],
   "source": [
    "df4 = df3.stack()\n",
    "df4.head()"
   ]
  },
  {
   "cell_type": "code",
   "execution_count": null,
   "id": "b1d1f3ab",
   "metadata": {},
   "outputs": [],
   "source": [
    "type(df4)"
   ]
  },
  {
   "cell_type": "code",
   "execution_count": null,
   "id": "db8626fe",
   "metadata": {},
   "outputs": [],
   "source": [
    "df5 = df4.to_frame(name='values')\n",
    "df5.head()"
   ]
  },
  {
   "cell_type": "code",
   "execution_count": null,
   "id": "a4693fac",
   "metadata": {},
   "outputs": [],
   "source": [
    "df5.count()\n"
   ]
  },
  {
   "cell_type": "code",
   "execution_count": null,
   "id": "8a41ba2c",
   "metadata": {},
   "outputs": [],
   "source": [
    "index = pd.Index(range(90))\n",
    "\n",
    "df6 = df5.reset_index()\n",
    "df6.head()"
   ]
  },
  {
   "cell_type": "code",
   "execution_count": null,
   "id": "8f393c52",
   "metadata": {},
   "outputs": [],
   "source": [
    "df7 = df6.rename(columns={'level_1':'percent_change'})\n",
    "df7.head()"
   ]
  },
  {
   "cell_type": "code",
   "execution_count": null,
   "id": "2d03220d",
   "metadata": {},
   "outputs": [],
   "source": [
    "df7['percent_change']= df7['percent_change'].replace(['quote.USD.percent_change_1h','quote.USD.percent_change_24h','quote.USD.percent_change_7d','quote.USD.percent_change_30d','quote.USD.percent_change_60d','quote.USD.percent_change_90d'],['1h','24h','7d','30d','60d','90d'])\n",
    "df7.head()"
   ]
  },
  {
   "cell_type": "code",
   "execution_count": null,
   "id": "5e51b256",
   "metadata": {},
   "outputs": [],
   "source": [
    "import seaborn as sns\n",
    "import matplotlib.pyplot as plt"
   ]
  },
  {
   "cell_type": "code",
   "execution_count": null,
   "id": "ff003ea5",
   "metadata": {},
   "outputs": [],
   "source": [
    "sns.catplot(x='percent_change', y='values', hue='name', data=df7, kind='point')\n"
   ]
  },
  {
   "cell_type": "code",
   "execution_count": null,
   "id": "4c85d222",
   "metadata": {},
   "outputs": [],
   "source": [
    "df10 = df[['name','quote.USD.price','Timestamp']]\n",
    "df10 = df10.query(\"name == 'Bitcoin'\")\n",
    "df10.head()"
   ]
  },
  {
   "cell_type": "code",
   "execution_count": null,
   "id": "9cdbaa30",
   "metadata": {},
   "outputs": [],
   "source": [
    "sns.set_theme(style=\"whitegrid\")"
   ]
  },
  {
   "cell_type": "code",
   "execution_count": null,
   "id": "b35ce357",
   "metadata": {
    "scrolled": true
   },
   "outputs": [],
   "source": [
    "sns.lineplot(x='Timestamp', y='quote.USD.price', data = df10)"
   ]
  },
  {
   "cell_type": "code",
   "execution_count": null,
   "id": "dd1e2577",
   "metadata": {},
   "outputs": [],
   "source": [
    "df10.head()"
   ]
  },
  {
   "cell_type": "code",
   "execution_count": null,
   "id": "b52a49ce",
   "metadata": {},
   "outputs": [],
   "source": []
  },
  {
   "cell_type": "code",
   "execution_count": null,
   "id": "5b5f75a4",
   "metadata": {},
   "outputs": [],
   "source": []
  }
 ],
 "metadata": {
  "kernelspec": {
   "display_name": "Python 3 (ipykernel)",
   "language": "python",
   "name": "python3"
  },
  "language_info": {
   "codemirror_mode": {
    "name": "ipython",
    "version": 3
   },
   "file_extension": ".py",
   "mimetype": "text/x-python",
   "name": "python",
   "nbconvert_exporter": "python",
   "pygments_lexer": "ipython3",
   "version": "3.10.9"
  }
 },
 "nbformat": 4,
 "nbformat_minor": 5
}
